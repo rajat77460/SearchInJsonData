{
 "cells": [
  {
   "cell_type": "code",
   "execution_count": 1,
   "metadata": {},
   "outputs": [
    {
     "data": {
      "text/plain": [
       "'C:\\\\Users\\\\_rajat_\\\\Downloads'"
      ]
     },
     "execution_count": 1,
     "metadata": {},
     "output_type": "execute_result"
    }
   ],
   "source": [
    "import json\n",
    "from difflib import get_close_matches\n",
    "import os"
   ]
  },
  {
   "cell_type": "code",
   "execution_count": 21,
   "metadata": {},
   "outputs": [],
   "source": [
    "data = json.load(open(\"dictionaryDataset.json\"))\n"
   ]
  },
  {
   "cell_type": "code",
   "execution_count": 35,
   "metadata": {},
   "outputs": [],
   "source": [
    "def translate (w):\n",
    "    m=w\n",
    "    w=w.lower()\n",
    "    if m in data:\n",
    "        return data[m]\n",
    "    elif w in data:\n",
    "        return data[w]\n",
    "    elif len(get_close_matches(w,data.keys())) >0 :\n",
    "        yn = input(\"Did you mean %s instead? Enter y if yes, or n if no: \" % get_close_matches(w, data.keys())[0])\n",
    "        if yn.lower()[0] == \"y\":\n",
    "            return data[get_close_matches(w, data.keys())[0]]\n",
    "        elif yn.lower()[0] == \"n\":\n",
    "            return \"The word doesn't exist. Please double check it.\"\n",
    "        else:\n",
    "            return \"We didn't understand your entry.\"\n",
    "    else:\n",
    "        return \"The word doesn't exist. Please double check it.\""
   ]
  },
  {
   "cell_type": "code",
   "execution_count": 36,
   "metadata": {},
   "outputs": [],
   "source": [
    "def main():\n",
    "\tword = input(\"Enter word: \")\n",
    "\toutput = translate(word)\n",
    "\tif type(output) == list:\n",
    "\t\tfor item in output:\n",
    "\t\t\tprint(item)\n",
    "\telse:\n",
    "\t\tprint(output)\n",
    "\n",
    "        "
   ]
  },
  {
   "cell_type": "code",
   "execution_count": 37,
   "metadata": {},
   "outputs": [
    {
     "name": "stdout",
     "output_type": "stream",
     "text": [
      "Enter word: delhi\n",
      "Did you mean Delhi instead? Enter y if yes, or n if no: yes\n",
      "The largest metropolis by area and the second-largest metropolis by population in India.\n"
     ]
    }
   ],
   "source": [
    "main()\n"
   ]
  },
  {
   "cell_type": "code",
   "execution_count": null,
   "metadata": {},
   "outputs": [],
   "source": []
  }
 ],
 "metadata": {
  "kernelspec": {
   "display_name": "Python 3",
   "language": "python",
   "name": "python3"
  },
  "language_info": {
   "codemirror_mode": {
    "name": "ipython",
    "version": 3
   },
   "file_extension": ".py",
   "mimetype": "text/x-python",
   "name": "python",
   "nbconvert_exporter": "python",
   "pygments_lexer": "ipython3",
   "version": "3.7.1"
  }
 },
 "nbformat": 4,
 "nbformat_minor": 2
}
